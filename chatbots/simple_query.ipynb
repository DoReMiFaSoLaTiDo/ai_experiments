{
 "cells": [
  {
   "cell_type": "code",
   "execution_count": 18,
   "metadata": {},
   "outputs": [],
   "source": [
    "import fs from 'node:fs/promises'; \n",
    "\n",
    "import {\n",
    "  Document,\n",
    "  Ollama,\n",
    "  Settings,\n",
    "  VectorStoreIndex,\n",
    "} from 'npm:llamaindex@0.3.12';\n",
    "\n",
    "const ollama = new Ollama({ model: \"vicuna\", temperature: 0.75 });\n",
    "Settings.llm = ollama;\n",
    "Settings.embedModel = ollama;"
   ]
  },
  {
   "cell_type": "code",
   "execution_count": 19,
   "metadata": {},
   "outputs": [],
   "source": [
    "// Load essay from abramov.txt in Node\n",
    "const path = '../data/abramov.txt';\n",
    "const essay = await fs.readFile(path, \"utf-8\");\n",
    "\n",
    "// Create Document object with essay\n",
    "const document = await new Document({ text: essay, id_: path });\n",
    "\n",
    "// Split text and create embeddings. Store them in a VectorStoreIndex\n",
    "const index = await VectorStoreIndex.fromDocuments([document]);\n"
   ]
  },
  {
   "cell_type": "code",
   "execution_count": 20,
   "metadata": {},
   "outputs": [
    {
     "name": "stdout",
     "output_type": "stream",
     "text": [
      "In college, the author studied subjects such as linear algebra and physics, but did not find them particularly interesting. They started slacking off, skipping lectures, and eventually lost motivation for attending classes altogether. They also had a negative experience with their English classes, where they were required to pay for catch-up training despite receiving verbal approval to skip most of the classes. Ultimately, the author stopped attending college and did not show up for midterm exams, eventually returning their Macbook and only returning to pick up their papers five years later.\n"
     ]
    }
   ],
   "source": [
    "// Query the index\n",
    "const queryEngine = index.asQueryEngine();\n",
    "\n",
    "const response = await queryEngine.query({\n",
    "  query: \"What did the author do in college?\",\n",
    "});\n",
    "\n",
    "// Output response\n",
    "console.log(response.toString());"
   ]
  },
  {
   "cell_type": "code",
   "execution_count": 21,
   "metadata": {},
   "outputs": [
    {
     "name": "stdout",
     "output_type": "stream",
     "text": [
      "The author was born in Russia.\n"
     ]
    }
   ],
   "source": [
    "const response2 = await queryEngine.query({\n",
    "  query: \"What was the author born?\",\n",
    "});\n",
    "\n",
    "console.log(response2.toString());"
   ]
  },
  {
   "cell_type": "code",
   "execution_count": 22,
   "metadata": {},
   "outputs": [
    {
     "name": "stdout",
     "output_type": "stream",
     "text": [
      "The author had skills in software development, particularly in writing desktop software.\n"
     ]
    }
   ],
   "source": [
    "const response3 = await queryEngine.query({\n",
    "  query: \"What skills did the author have?\",\n",
    "});\n",
    "\n",
    "console.log(response3.toString());"
   ]
  },
  {
   "cell_type": "code",
   "execution_count": 23,
   "metadata": {},
   "outputs": [
    {
     "name": "stdout",
     "output_type": "stream",
     "text": [
      "The article is a personal account of the author's journey in the tech industry, starting with fixing code for a New York investment group and eventually working on a DIY publishing platform in Moscow. The author reflects on learning new technologies, experiencing burnout, and finding success with React in 2014. The narrative also touches on personal relationships and life experiences throughout the years.\n"
     ]
    }
   ],
   "source": [
    "const response4 = await queryEngine.query({\n",
    "  query: \"Summarize the article\",\n",
    "});\n",
    "\n",
    "console.log(response4.toString());"
   ]
  }
 ],
 "metadata": {
  "kernelspec": {
   "display_name": "Deno",
   "language": "typescript",
   "name": "deno"
  },
  "language_info": {
   "file_extension": ".ts",
   "mimetype": "text/x.typescript",
   "name": "typescript",
   "nb_converter": "script",
   "pygments_lexer": "typescript",
   "version": "5.4.5"
  }
 },
 "nbformat": 4,
 "nbformat_minor": 2
}
